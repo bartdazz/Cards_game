{
 "cells": [
  {
   "cell_type": "code",
   "execution_count": null,
   "id": "2faa477c",
   "metadata": {},
   "outputs": [],
   "source": [
    "import socket\n",
    "\n",
    "server = socket.socket(socket.AF_INET, socket.SOCK_STREAM)\n",
    "server.bind((\"0.0.0.0\", 5555))  # Listen on all network interfaces, port 5555\n",
    "server.listen(1)\n",
    "print(\"Waiting for a connection...\")\n",
    "conn, addr = server.accept()\n",
    "print(f\"Connected to {addr}\")"
   ]
  },
  {
   "cell_type": "code",
   "execution_count": null,
   "id": "2dbf8000",
   "metadata": {},
   "outputs": [],
   "source": [
    "while True:\n",
    "    data = conn.recv(1024).decode()\n",
    "    if not data:\n",
    "        break\n",
    "    print(f\"Player 2: {data}\")\n",
    "    move = input(\"Your move: \")\n",
    "    conn.send(move.encode())"
   ]
  }
 ],
 "metadata": {
  "kernelspec": {
   "display_name": "Python 3 (ipykernel)",
   "language": "python",
   "name": "python3"
  },
  "language_info": {
   "codemirror_mode": {
    "name": "ipython",
    "version": 3
   },
   "file_extension": ".py",
   "mimetype": "text/x-python",
   "name": "python",
   "nbconvert_exporter": "python",
   "pygments_lexer": "ipython3",
   "version": "3.9.13"
  }
 },
 "nbformat": 4,
 "nbformat_minor": 5
}
